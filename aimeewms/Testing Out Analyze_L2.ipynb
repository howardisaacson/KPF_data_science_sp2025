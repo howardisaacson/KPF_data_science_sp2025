{
 "cells": [
  {
   "cell_type": "code",
   "execution_count": 1,
   "id": "ad5b17bf",
   "metadata": {
    "scrolled": true
   },
   "outputs": [],
   "source": [
    "#okay so we're going to be looking at how the AnalyzeL2 class within analyze_l2.py works,\n",
    "#so then we can look at how to create the BCRV Percent variable and then store it within\n",
    "#def add_headers_L2_barycentric(L2, logger=None): in diagnostics.py\n",
    "import copy\n",
    "import numpy as np\n",
    "from datetime import datetime\n",
    "import matplotlib.pyplot as plt\n",
    "import matplotlib.ticker as ticker\n",
    "from matplotlib.ticker import MaxNLocator\n",
    "from matplotlib.lines import Line2D\n",
    "from modules.Utils.kpf_parse import HeaderParse, get_data_products_L2\n",
    "from astropy.table import Table\n",
    "from kpfpipe.models.level2 import KPF2"
   ]
  },
  {
   "cell_type": "code",
   "execution_count": 2,
   "id": "1a0770d0",
   "metadata": {},
   "outputs": [],
   "source": [
    "class AnalyzeL2:\n",
    "\n",
    "    \"\"\"\n",
    "    Description:\n",
    "        This class contains functions to analyze L2 spectra (storing them\n",
    "        as attributes) and functions to plot the results.\n",
    "\n",
    "    Arguments:\n",
    "        L2 - an L2 object\n",
    "\n",
    "    Attributes:\n",
    "        name - name of source (e.g., 'Bias', 'Etalon', '185144')\n",
    "        ObsID - observation  ID (e.g. 'KP.20230704.02326.27')\n",
    "        header - header of the PRIMARY extension of the L2 object\n",
    "        rv_header - header of the RV extension\n",
    "    \n",
    "    To do:\n",
    "        Add plot showing combined CCF - https://github.com/Keck-DataReductionPipelines/KPF-Pipeline/issues/940\n",
    "        Add plot showing correlations between per-order RVs and per-chip RVs and overall RVs.\n",
    "    \"\"\"\n",
    "\n",
    "    def __init__(self, L2, logger=None):\n",
    "        if logger:\n",
    "            self.logger = logger\n",
    "            self.logger.debug('Initializing AnalyzeL2 object')\n",
    "        else:\n",
    "            self.logger = None\n",
    "        self.L2 = copy.deepcopy(L2)\n",
    "        self.df_RV = self.L2['RV']\n",
    "        self.n_green_orders = 35\n",
    "        self.n_red_orders   = 32\n",
    "        primary_header = HeaderParse(L2, 'PRIMARY')\n",
    "        self.header = primary_header.header\n",
    "        self.name = primary_header.get_name()\n",
    "        if primary_header.get_name(use_star_names=False) in ['Star', 'Sun']:\n",
    "            self.is_star = True\n",
    "        else:\n",
    "            self.is_star = False\n",
    "        self.ObsID = primary_header.get_obsid()\n",
    "        self.rv_header = HeaderParse(L2, 'RV').header\n",
    "        self.df_RVs = self.L2['RV'] # Table of RVs per order and orderlet\n",
    "        self.data_products = get_data_products_L2(self.L2)\n",
    "        self.green_present = 'Green' in self.data_products\n",
    "        self.red_present = 'Red' in self.data_products\n",
    "        self.texp = self.header['ELAPSED']\n",
    "\n",
    "        self.compute_statistics()\n",
    "        \n",
    "        \n",
    "    def compute_statistics(self):\n",
    "        \"\"\"\n",
    "        Compute various metrics of dispersion of the per-order BJD values\n",
    "        \"\"\"\n",
    "        # compute weighted Barycentric RV correction\n",
    "        x = self.df_RV['Bary_RVC']\n",
    "        w = self.df_RV['CCF Weights']\n",
    "        self.CCFBCV = np.sum(w * x) / np.sum(w)\n",
    "\n",
    "        # compute weighted BJD (this should be computed elsewhere and read from the L2 header)\n",
    "        x = self.df_RV['CCFBJD']\n",
    "        w = self.df_RV['CCF Weights']\n",
    "        self.CCFBJD = np.sum(w * x) / np.sum(w)\n",
    "\n",
    "        # compute per-order BJD differences\n",
    "        self.df_RV['Delta_CCFBJD'] = self.df_RV['CCFBJD'].copy()\n",
    "        self.df_RV['Delta_CCFBJD'] -= self.CCFBJD\n",
    "        #    compute weighted standard deviation\n",
    "        x = self.df_RV['Delta_CCFBJD']\n",
    "        w = self.df_RV['CCF Weights']\n",
    "        nonzero_mask = w != 0\n",
    "        wmean = np.sum(w * x) / np.sum(w)\n",
    "        var_pop = np.sum(w * (x - wmean)**2) / np.sum(w) # weighted variance\n",
    "        self.Delta_CCFBJD_weighted_std = np.sqrt(var_pop) * 24*60*60  # seconds\n",
    "        self.Delta_CCFBJD_weighted_range = (x[nonzero_mask].max() - x[nonzero_mask].min()) * 24*60*60  # seconds\n",
    "\n",
    "        # compute per-order Barycentric RV differences\n",
    "        self.df_RV['Delta_Bary_RVC'] = self.df_RV['Bary_RVC'].copy()\n",
    "        self.df_RV['Delta_Bary_RVC'] -= self.CCFBCV\n",
    "        #    compute weighted standard deviation\n",
    "        x = self.df_RV['Delta_Bary_RVC']\n",
    "        wmean = np.sum(w * x) / np.sum(w)\n",
    "        var_pop = np.sum(w * (x - wmean)**2) / np.sum(w) # weighted variance\n",
    "        self.Delta_Bary_RVC_weighted_std = np.sqrt(var_pop) * 1000 # m/s\n",
    "        self.Delta_Bary_RVC_weighted_range = (x[nonzero_mask].max() - x[nonzero_mask].min()) * 1000 # m/s\n"
   ]
  },
  {
   "cell_type": "code",
   "execution_count": 4,
   "id": "f14c0b64-d65b-424a-aa90-48d5a4a604cd",
   "metadata": {
    "scrolled": true
   },
   "outputs": [
    {
     "name": "stdout",
     "output_type": "stream",
     "text": [
      "    orderlet1  orderlet2  orderlet3  s_wavelength  e_wavelength  segment no.  \\\n",
      "0         0.0        0.0        0.0   4505.867807   4465.215086            0   \n",
      "1         0.0        0.0        0.0   4538.949726   4497.995105            1   \n",
      "2         0.0        0.0        0.0   4572.521116   4531.260119            2   \n",
      "3         0.0        0.0        0.0   4606.592919   4565.020491            3   \n",
      "4         0.0        0.0        0.0   4641.175961   4599.287622            4   \n",
      "..        ...        ...        ...           ...           ...          ...   \n",
      "62        0.0        0.0        0.0   8226.392913   8151.291145           27   \n",
      "63        0.0        0.0        0.0   8337.435474   8261.310141           28   \n",
      "64        0.0        0.0        0.0   8451.515446   8374.341090           29   \n",
      "65        0.0        0.0        0.0   8568.759685   8490.509001           30   \n",
      "66        0.0        0.0        0.0   8689.300786   8609.946569           31   \n",
      "\n",
      "    order no.   RV  RV error    CAL RV  ...        CCFBJD  Bary_RVC  \\\n",
      "0           0  0.0  0.022879  0.000000  ...  2.460606e+06  0.055367   \n",
      "1           1  0.0  0.021685  0.000000  ...  2.460606e+06  0.054555   \n",
      "2           2  0.0  0.017356  0.000000  ...  2.460606e+06  0.054895   \n",
      "3           3  0.0  0.018343  0.000000  ...  2.460606e+06  0.054855   \n",
      "4           4  0.0  0.015160  0.000000  ...  2.460606e+06  0.054700   \n",
      "..        ...  ...       ...       ...  ...           ...       ...   \n",
      "62         27  0.0  0.000000  0.000603  ...  2.460606e+06  0.054644   \n",
      "63         28  0.0  0.000000  0.002412  ...  2.460606e+06  0.054659   \n",
      "64         29  0.0  0.000000  0.002671  ...  2.460606e+06  0.054672   \n",
      "65         30  0.0  0.000000  0.001304  ...  2.460606e+06  0.054687   \n",
      "66         31  0.0  0.000000 -0.003939  ...  2.460606e+06  0.054656   \n",
      "\n",
      "            source1          source2          source3      source CAL  \\\n",
      "0   GREEN_SCI_FLUX1  GREEN_SCI_FLUX2  GREEN_SCI_FLUX3  GREEN_CAL_FLUX   \n",
      "1   GREEN_SCI_FLUX1  GREEN_SCI_FLUX2  GREEN_SCI_FLUX3  GREEN_CAL_FLUX   \n",
      "2   GREEN_SCI_FLUX1  GREEN_SCI_FLUX2  GREEN_SCI_FLUX3  GREEN_CAL_FLUX   \n",
      "3   GREEN_SCI_FLUX1  GREEN_SCI_FLUX2  GREEN_SCI_FLUX3  GREEN_CAL_FLUX   \n",
      "4   GREEN_SCI_FLUX1  GREEN_SCI_FLUX2  GREEN_SCI_FLUX3  GREEN_CAL_FLUX   \n",
      "..              ...              ...              ...             ...   \n",
      "62    RED_SCI_FLUX1    RED_SCI_FLUX2    RED_SCI_FLUX3    RED_CAL_FLUX   \n",
      "63    RED_SCI_FLUX1    RED_SCI_FLUX2    RED_SCI_FLUX3    RED_CAL_FLUX   \n",
      "64    RED_SCI_FLUX1    RED_SCI_FLUX2    RED_SCI_FLUX3    RED_CAL_FLUX   \n",
      "65    RED_SCI_FLUX1    RED_SCI_FLUX2    RED_SCI_FLUX3    RED_CAL_FLUX   \n",
      "66    RED_SCI_FLUX1    RED_SCI_FLUX2    RED_SCI_FLUX3    RED_CAL_FLUX   \n",
      "\n",
      "        source SKY CCF Weights Delta_CCFBJD Delta_Bary_RVC  \n",
      "0   GREEN_SKY_FLUX         0.0    -0.000164       0.000516  \n",
      "1   GREEN_SKY_FLUX         0.0     0.000094      -0.000295  \n",
      "2   GREEN_SKY_FLUX         0.0    -0.000014       0.000045  \n",
      "3   GREEN_SKY_FLUX         0.0    -0.000002       0.000005  \n",
      "4   GREEN_SKY_FLUX         0.0     0.000048      -0.000151  \n",
      "..             ...         ...          ...            ...  \n",
      "62    RED_SKY_FLUX         0.0     0.000066      -0.000207  \n",
      "63    RED_SKY_FLUX         0.0     0.000061      -0.000192  \n",
      "64    RED_SKY_FLUX         0.0     0.000057      -0.000178  \n",
      "65    RED_SKY_FLUX         0.0     0.000052      -0.000164  \n",
      "66    RED_SKY_FLUX         0.0     0.000062      -0.000194  \n",
      "\n",
      "[67 rows x 23 columns]\n"
     ]
    }
   ],
   "source": [
    "L2 = KPF2.from_fits(\"KP.20241022.39422.56_L2.fits\")\n",
    "myL2 = AnalyzeL2(L2)\n",
    "print(myL2.df_RV)"
   ]
  },
  {
   "cell_type": "code",
   "execution_count": 5,
   "id": "403e86b5-5434-4a3c-83d5-006fef31f629",
   "metadata": {},
   "outputs": [
    {
     "name": "stdout",
     "output_type": "stream",
     "text": [
      "0.05485045777642879\n"
     ]
    }
   ],
   "source": [
    "print(myL2.CCFBCV)"
   ]
  },
  {
   "cell_type": "code",
   "execution_count": 7,
   "id": "c6c11d0c-977a-4ada-9d2a-9663910250b9",
   "metadata": {},
   "outputs": [
    {
     "data": {
      "text/plain": [
       "np.float64(0.9409079347137799)"
      ]
     },
     "execution_count": 7,
     "metadata": {},
     "output_type": "execute_result"
    }
   ],
   "source": [
    "myL2.df_RV['Perc_Delta_Bary_RV'] = (myL2.df_RV['Delta_Bary_RVC'].copy() / myL2.CCFBCV) * 100\n",
    "myL2.df_RV['Perc_Delta_Bary_RV'].max()"
   ]
  },
  {
   "cell_type": "code",
   "execution_count": 8,
   "id": "26378a88-706f-4def-ad52-804fa5013c1b",
   "metadata": {},
   "outputs": [
    {
     "name": "stdout",
     "output_type": "stream",
     "text": [
      "max: 0.6894375932041458, min: -0.47031634755679774\n"
     ]
    }
   ],
   "source": [
    "nonzero_mask = myL2.df_RV['CCF Weights'] != 0\n",
    "x = myL2.df_RV['Perc_Delta_Bary_RV']\n",
    "myL2.Max_Perc_Delta_Bary_RV = x[nonzero_mask].max()\n",
    "myL2.Min_Perc_Delta_Bary_RV = x[nonzero_mask].min()\n",
    "print(f\"max: {myL2.Max_Perc_Delta_Bary_RV}, min: {myL2.Min_Perc_Delta_Bary_RV}\")"
   ]
  },
  {
   "cell_type": "code",
   "execution_count": null,
   "id": "fd7d97d8-c4dd-451d-bb33-2a08d5efedf3",
   "metadata": {},
   "outputs": [],
   "source": []
  }
 ],
 "metadata": {
  "kernelspec": {
   "display_name": "Python 3 (ipykernel)",
   "language": "python",
   "name": "python3"
  },
  "language_info": {
   "codemirror_mode": {
    "name": "ipython",
    "version": 3
   },
   "file_extension": ".py",
   "mimetype": "text/x-python",
   "name": "python",
   "nbconvert_exporter": "python",
   "pygments_lexer": "ipython3",
   "version": "3.11.11"
  }
 },
 "nbformat": 4,
 "nbformat_minor": 5
}
