{
 "cells": [
  {
   "cell_type": "code",
   "execution_count": 15,
   "id": "69cb032f",
   "metadata": {},
   "outputs": [],
   "source": [
    "from modules.quicklook.src.analyze_time_series import AnalyzeTimeSeries\n",
    "import pandas as pd\n",
    "import matplotlib.pyplot as plt\n",
    "import os\n",
    "import copy\n",
    "import numpy as np\n",
    "import time\n",
    "import matplotlib.dates as mdates\n",
    "from datetime import datetime\n",
    "from astropy.table import Table"
   ]
  },
  {
   "cell_type": "code",
   "execution_count": 18,
   "id": "fb2d8aca",
   "metadata": {},
   "outputs": [
    {
     "name": "stdout",
     "output_type": "stream",
     "text": [
      "INFO: Starting AnalyzeTimeSeries\n",
      "INFO: Jupyter Notebook environment detected.\n",
      "INFO: Path of database file: /code/KPF-Pipeline/kpf_ts.db\n",
      "INFO: Base data directory: /data/data/L2\n",
      "INFO: Summary: 1 obs x 331 cols over 1 days in 20241010-20241010; updated 2024-11-30 01:32:53\n"
     ]
    }
   ],
   "source": [
    "db_path = 'kpf_ts.db' # name of database file\n",
    "myTS = AnalyzeTimeSeries(db_path=db_path,base_dir='/data/data/L2')"
   ]
  },
  {
   "cell_type": "code",
   "execution_count": 19,
   "id": "d9cfc12d",
   "metadata": {},
   "outputs": [
    {
     "name": "stdout",
     "output_type": "stream",
     "text": [
      "INFO: Summary: 1 obs x 331 cols over 1 days in 20241010-20241010; updated 2024-11-30 01:32:53\n"
     ]
    }
   ],
   "source": [
    "myTS.ingest_one_observation('/data/data/L2/20241010','KP.20241010.12030.25_L2.fits')\n",
    "myTS.print_db_status()"
   ]
  },
  {
   "cell_type": "code",
   "execution_count": 22,
   "id": "57c9fb23",
   "metadata": {},
   "outputs": [
    {
     "name": "stdout",
     "output_type": "stream",
     "text": [
      "INFO: Starting AnalyzeTimeSeries\n",
      "INFO: Jupyter Notebook environment detected.\n",
      "INFO: Path of database file: /code/KPF-Pipeline/kpf_ts.db\n",
      "INFO: Base data directory: /data/data/L2\n",
      "INFO: Summary: 1 obs x 331 cols over 1 days in 20241010-20241010; updated 2024-11-30 01:32:53\n",
      "INFO: Adding to database between 20241009 to 20241011\n"
     ]
    },
    {
     "data": {
      "application/vnd.jupyter.widget-view+json": {
       "model_id": "af62b091990d4b07b2f7782ed0f09831",
       "version_major": 2,
       "version_minor": 0
      },
      "text/plain": [
       "20241009:   0%|          | 0/3 [00:00<?, ?it/s]"
      ]
     },
     "metadata": {},
     "output_type": "display_data"
    },
    {
     "data": {
      "application/vnd.jupyter.widget-view+json": {
       "model_id": "9bbf82d290fe4f2f97960992b09d740e",
       "version_major": 2,
       "version_minor": 0
      },
      "text/plain": [
       "Files:   0%|          | 0/25 [00:00<?, ?it/s]"
      ]
     },
     "metadata": {},
     "output_type": "display_data"
    },
    {
     "data": {
      "application/vnd.jupyter.widget-view+json": {
       "model_id": "55228cf53aad4b26b96c191cd848538a",
       "version_major": 2,
       "version_minor": 0
      },
      "text/plain": [
       "Files:   0%|          | 0/20 [00:00<?, ?it/s]"
      ]
     },
     "metadata": {},
     "output_type": "display_data"
    },
    {
     "data": {
      "application/vnd.jupyter.widget-view+json": {
       "model_id": "26b9a70a979346cca5311cd411ec4134",
       "version_major": 2,
       "version_minor": 0
      },
      "text/plain": [
       "Files:   0%|          | 0/25 [00:00<?, ?it/s]"
      ]
     },
     "metadata": {},
     "output_type": "display_data"
    },
    {
     "name": "stdout",
     "output_type": "stream",
     "text": [
      "INFO: Summary: 70 obs x 331 cols over 3 days in 20241009-20241011; updated 2024-12-03 04:43:43\n"
     ]
    }
   ],
   "source": [
    "start_date = '20241009'\n",
    "end_date   = '20241011'\n",
    "myTS = AnalyzeTimeSeries(db_path=db_path,base_dir='/data/data/L2')\n",
    "myTS.ingest_dates_to_db(start_date, end_date)\n",
    "myTS.print_db_status()"
   ]
  },
  {
   "cell_type": "code",
   "execution_count": 23,
   "id": "b16c47ab",
   "metadata": {},
   "outputs": [
    {
     "name": "stdout",
     "output_type": "stream",
     "text": [
      "INFO: Starting AnalyzeTimeSeries\n",
      "INFO: Jupyter Notebook environment detected.\n",
      "INFO: Path of database file: /code/KPF-Pipeline/kpf_ts.db\n",
      "INFO: Base data directory: /data/data/L2\n",
      "INFO: Summary: 70 obs x 331 cols over 3 days in 20241009-20241011; updated 2024-12-03 04:43:43\n",
      "                      ObsID                    OBJECT  \\\n",
      "0   KP.20241010.12030.25_L2       autocal-lfc-all-eve   \n",
      "1   KP.20241009.12835.46_L2       autocal-lfc-all-eve   \n",
      "2   KP.20241009.67438.50_L2      autocal-lfc-all-morn   \n",
      "3   KP.20241009.34172.32_L2  autocal-lfc-all-midnight   \n",
      "4   KP.20241009.12618.61_L2       autocal-lfc-all-eve   \n",
      "..                      ...                       ...   \n",
      "65  KP.20241011.12570.99_L2       autocal-lfc-all-eve   \n",
      "66  KP.20241011.34336.12_L2  autocal-lfc-all-midnight   \n",
      "67  KP.20241011.67659.82_L2      autocal-lfc-all-morn   \n",
      "68  KP.20241011.67551.37_L2      autocal-lfc-all-morn   \n",
      "69  KP.20241011.67768.18_L2      autocal-lfc-all-morn   \n",
      "\n",
      "                   DATE-MID DRPTAG  \n",
      "0   2024-10-10T03:21:00.262   None  \n",
      "1   2024-10-09T03:34:25.466   None  \n",
      "2   2024-10-09T18:44:28.507   None  \n",
      "3   2024-10-09T09:30:02.333   None  \n",
      "4   2024-10-09T03:30:48.626   None  \n",
      "..                      ...    ...  \n",
      "65  2024-10-11T03:30:01.003   None  \n",
      "66  2024-10-11T09:32:46.157   None  \n",
      "67  2024-10-11T18:48:09.827   None  \n",
      "68  2024-10-11T18:46:21.398   None  \n",
      "69  2024-10-11T18:49:58.191   None  \n",
      "\n",
      "[70 rows x 4 columns]\n"
     ]
    }
   ],
   "source": [
    "myTS = AnalyzeTimeSeries(db_path=db_path,base_dir='/data/data/L2')\n",
    "columns_to_display = ['ObsID', 'OBJECT', 'DATE-MID', 'DRPTAG']\n",
    "myTS.display_dataframe_from_db(columns_to_display)"
   ]
  },
  {
   "cell_type": "code",
   "execution_count": 24,
   "id": "ffd5e5dd",
   "metadata": {},
   "outputs": [],
   "source": [
    "df = myTS.dataframe_from_db(columns_to_display)"
   ]
  },
  {
   "cell_type": "code",
   "execution_count": 28,
   "id": "7dae3c1f",
   "metadata": {},
   "outputs": [],
   "source": [
    "start_date = datetime(2024, 10, 9)\n",
    "end_date   = datetime(2024, 10,  11)\n",
    "dict1 = {'col': 'kpfmet.TEMP',              'plot_type': 'scatter', 'unit': 'K', 'plot_attr': {'label':  'Hallway',              'marker': '.', 'linewidth': 0.5}}\n",
    "dict2 = {'col': 'kpfmet.GREEN_LN2_FLANGE',  'plot_type': 'scatter', 'unit': 'K', 'plot_attr': {'label': r'Green LN$_2$ Flng',    'marker': '.', 'linewidth': 0.5, 'color': 'darkgreen'}}\n",
    "dict3 = {'col': 'kpfmet.RED_LN2_FLANGE',    'plot_type': 'scatter', 'unit': 'K', 'plot_attr': {'label': r'Red LN$_2$ Flng',      'marker': '.', 'linewidth': 0.5, 'color': 'darkred'}}\n",
    "dict4 = {'col': 'kpfmet.CHAMBER_EXT_BOTTOM','plot_type': 'scatter', 'unit': 'K', 'plot_attr': {'label': r'Chamber Ext Bot',      'marker': '.', 'linewidth': 0.5}}\n",
    "dict5 = {'col': 'kpfmet.CHAMBER_EXT_TOP',   'plot_type': 'plot',    'unit': 'K', 'plot_attr': {'label': r'Chamber Exterior Top', 'marker': '.', 'linewidth': 0.5}}\n",
    "thispanelvars = [dict1]\n",
    "thispaneldict = {'ylabel': 'Hallway\\n' + r' Temperature ($^{\\circ}$C)',\n",
    "                 'legend_frac_size': 0.3}\n",
    "halltemppanel = {'panelvars': thispanelvars,\n",
    "                 'paneldict': thispaneldict}\n",
    "\n",
    "thispanelvars2 = [dict2, dict3, dict4]\n",
    "thispaneldict2 = {'ylabel': 'Exterior\\n' + r' Temperatures ($^{\\circ}$C)',\n",
    "                 'legend_frac_size': 0.3}\n",
    "halltemppanel2 = {'panelvars': thispanelvars2,\n",
    "                  'paneldict': thispaneldict2}\n",
    "\n",
    "thispanelvars3 = [dict2, dict3, dict4]\n",
    "thispaneldict3 = {'ylabel': 'Exterior\\n' + r'$\\Delta$Temperature (K)',\n",
    "                 'subtractmedian': 'true',\n",
    "                 'legend_frac_size': 0.3}\n",
    "halltemppanel3 = {'panelvars': thispanelvars3,\n",
    "                  'paneldict': thispaneldict3}\n",
    "\n",
    "panel_arr = [halltemppanel, halltemppanel2, copy.deepcopy(halltemppanel3)]\n",
    "myTS.plot_time_series_multipanel(panel_arr, start_date=start_date, end_date=end_date, show_plot=True, clean=True)"
   ]
  },
  {
   "cell_type": "code",
   "execution_count": null,
   "id": "5252e1bb",
   "metadata": {},
   "outputs": [],
   "source": [
    "start_date = datetime(2024, 10, 1)\n",
    "end_date   = datetime(2024, 4, 6)\n",
    "myTS.plot_standard_time_series('chamber_temp_detail', start_date=start_date, end_date=end_date, show_plot=True, clean=True)"
   ]
  }
 ],
 "metadata": {
  "kernelspec": {
   "display_name": "Python 3",
   "language": "python",
   "name": "python3"
  },
  "language_info": {
   "codemirror_mode": {
    "name": "ipython",
    "version": 3
   },
   "file_extension": ".py",
   "mimetype": "text/x-python",
   "name": "python",
   "nbconvert_exporter": "python",
   "pygments_lexer": "ipython3",
   "version": "3.6.15"
  }
 },
 "nbformat": 4,
 "nbformat_minor": 5
}
